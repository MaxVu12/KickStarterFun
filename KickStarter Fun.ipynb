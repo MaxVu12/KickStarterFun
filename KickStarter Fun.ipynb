{
 "cells": [
  {
   "cell_type": "markdown",
   "metadata": {},
   "source": [
    "# Hello! Welcome to Max Vu's Kickstart Fun"
   ]
  },
  {
   "cell_type": "code",
   "execution_count": 110,
   "metadata": {},
   "outputs": [],
   "source": [
    "import numpy as np \n",
    "import pandas as pd \n",
    "#pd.set_option('float_format', '{:f}'.format)\n",
    "pd.options.display.float_format = '{:,.2f}'.format\n",
    "import seaborn as sns\n",
    "import matplotlib.pyplot as plt"
   ]
  },
  {
   "cell_type": "code",
   "execution_count": 120,
   "metadata": {},
   "outputs": [
    {
     "data": {
      "text/plain": [
       "(378661, 15)"
      ]
     },
     "execution_count": 120,
     "metadata": {},
     "output_type": "execute_result"
    }
   ],
   "source": [
    "filename = \"kickstarter-projects/ks-projects-201801.csv\"\n",
    "ks_df = pd.read_csv(filename)\n",
    "ks_df.shape"
   ]
  },
  {
   "cell_type": "code",
   "execution_count": 121,
   "metadata": {},
   "outputs": [
    {
     "data": {
      "text/plain": [
       "(374860, 15)"
      ]
     },
     "execution_count": 121,
     "metadata": {},
     "output_type": "execute_result"
    }
   ],
   "source": [
    "ks_df = ks_df.dropna()\n",
    "ks_df.shape"
   ]
  },
  {
   "cell_type": "code",
   "execution_count": 131,
   "metadata": {},
   "outputs": [
    {
     "data": {
      "text/html": [
       "<div>\n",
       "<style scoped>\n",
       "    .dataframe tbody tr th:only-of-type {\n",
       "        vertical-align: middle;\n",
       "    }\n",
       "\n",
       "    .dataframe tbody tr th {\n",
       "        vertical-align: top;\n",
       "    }\n",
       "\n",
       "    .dataframe thead th {\n",
       "        text-align: right;\n",
       "    }\n",
       "</style>\n",
       "<table border=\"1\" class=\"dataframe\">\n",
       "  <thead>\n",
       "    <tr style=\"text-align: right;\">\n",
       "      <th></th>\n",
       "      <th>ID</th>\n",
       "      <th>name</th>\n",
       "      <th>category</th>\n",
       "      <th>main_category</th>\n",
       "      <th>currency</th>\n",
       "      <th>deadline</th>\n",
       "      <th>goal</th>\n",
       "      <th>launched</th>\n",
       "      <th>pledged</th>\n",
       "      <th>state</th>\n",
       "      <th>backers</th>\n",
       "      <th>country</th>\n",
       "      <th>usd pledged</th>\n",
       "      <th>usd_pledged_real</th>\n",
       "      <th>usd_goal_real</th>\n",
       "    </tr>\n",
       "  </thead>\n",
       "  <tbody>\n",
       "    <tr>\n",
       "      <th>0</th>\n",
       "      <td>1000002330</td>\n",
       "      <td>The Songs of Adelaide &amp; Abullah</td>\n",
       "      <td>Poetry</td>\n",
       "      <td>Publishing</td>\n",
       "      <td>GBP</td>\n",
       "      <td>2015-10-09</td>\n",
       "      <td>1,000.00</td>\n",
       "      <td>2015-08-11 12:12:28</td>\n",
       "      <td>0.00</td>\n",
       "      <td>failed</td>\n",
       "      <td>0</td>\n",
       "      <td>GB</td>\n",
       "      <td>0.00</td>\n",
       "      <td>0.00</td>\n",
       "      <td>1,533.95</td>\n",
       "    </tr>\n",
       "    <tr>\n",
       "      <th>1</th>\n",
       "      <td>1000003930</td>\n",
       "      <td>Greeting From Earth: ZGAC Arts Capsule For ET</td>\n",
       "      <td>Narrative Film</td>\n",
       "      <td>Film &amp; Video</td>\n",
       "      <td>USD</td>\n",
       "      <td>2017-11-01</td>\n",
       "      <td>30,000.00</td>\n",
       "      <td>2017-09-02 04:43:57</td>\n",
       "      <td>2,421.00</td>\n",
       "      <td>failed</td>\n",
       "      <td>15</td>\n",
       "      <td>US</td>\n",
       "      <td>100.00</td>\n",
       "      <td>2,421.00</td>\n",
       "      <td>30,000.00</td>\n",
       "    </tr>\n",
       "    <tr>\n",
       "      <th>2</th>\n",
       "      <td>1000004038</td>\n",
       "      <td>Where is Hank?</td>\n",
       "      <td>Narrative Film</td>\n",
       "      <td>Film &amp; Video</td>\n",
       "      <td>USD</td>\n",
       "      <td>2013-02-26</td>\n",
       "      <td>45,000.00</td>\n",
       "      <td>2013-01-12 00:20:50</td>\n",
       "      <td>220.00</td>\n",
       "      <td>failed</td>\n",
       "      <td>3</td>\n",
       "      <td>US</td>\n",
       "      <td>220.00</td>\n",
       "      <td>220.00</td>\n",
       "      <td>45,000.00</td>\n",
       "    </tr>\n",
       "    <tr>\n",
       "      <th>3</th>\n",
       "      <td>1000007540</td>\n",
       "      <td>ToshiCapital Rekordz Needs Help to Complete Album</td>\n",
       "      <td>Music</td>\n",
       "      <td>Music</td>\n",
       "      <td>USD</td>\n",
       "      <td>2012-04-16</td>\n",
       "      <td>5,000.00</td>\n",
       "      <td>2012-03-17 03:24:11</td>\n",
       "      <td>1.00</td>\n",
       "      <td>failed</td>\n",
       "      <td>1</td>\n",
       "      <td>US</td>\n",
       "      <td>1.00</td>\n",
       "      <td>1.00</td>\n",
       "      <td>5,000.00</td>\n",
       "    </tr>\n",
       "    <tr>\n",
       "      <th>4</th>\n",
       "      <td>1000011046</td>\n",
       "      <td>Community Film Project: The Art of Neighborhoo...</td>\n",
       "      <td>Film &amp; Video</td>\n",
       "      <td>Film &amp; Video</td>\n",
       "      <td>USD</td>\n",
       "      <td>2015-08-29</td>\n",
       "      <td>19,500.00</td>\n",
       "      <td>2015-07-04 08:35:03</td>\n",
       "      <td>1,283.00</td>\n",
       "      <td>canceled</td>\n",
       "      <td>14</td>\n",
       "      <td>US</td>\n",
       "      <td>1,283.00</td>\n",
       "      <td>1,283.00</td>\n",
       "      <td>19,500.00</td>\n",
       "    </tr>\n",
       "  </tbody>\n",
       "</table>\n",
       "</div>"
      ],
      "text/plain": [
       "           ID                                               name  \\\n",
       "0  1000002330                    The Songs of Adelaide & Abullah   \n",
       "1  1000003930      Greeting From Earth: ZGAC Arts Capsule For ET   \n",
       "2  1000004038                                     Where is Hank?   \n",
       "3  1000007540  ToshiCapital Rekordz Needs Help to Complete Album   \n",
       "4  1000011046  Community Film Project: The Art of Neighborhoo...   \n",
       "\n",
       "         category main_category currency    deadline      goal  \\\n",
       "0          Poetry    Publishing      GBP  2015-10-09  1,000.00   \n",
       "1  Narrative Film  Film & Video      USD  2017-11-01 30,000.00   \n",
       "2  Narrative Film  Film & Video      USD  2013-02-26 45,000.00   \n",
       "3           Music         Music      USD  2012-04-16  5,000.00   \n",
       "4    Film & Video  Film & Video      USD  2015-08-29 19,500.00   \n",
       "\n",
       "              launched  pledged     state  backers country  usd pledged  \\\n",
       "0  2015-08-11 12:12:28     0.00    failed        0      GB         0.00   \n",
       "1  2017-09-02 04:43:57 2,421.00    failed       15      US       100.00   \n",
       "2  2013-01-12 00:20:50   220.00    failed        3      US       220.00   \n",
       "3  2012-03-17 03:24:11     1.00    failed        1      US         1.00   \n",
       "4  2015-07-04 08:35:03 1,283.00  canceled       14      US     1,283.00   \n",
       "\n",
       "   usd_pledged_real  usd_goal_real  \n",
       "0              0.00       1,533.95  \n",
       "1          2,421.00      30,000.00  \n",
       "2            220.00      45,000.00  \n",
       "3              1.00       5,000.00  \n",
       "4          1,283.00      19,500.00  "
      ]
     },
     "execution_count": 131,
     "metadata": {},
     "output_type": "execute_result"
    }
   ],
   "source": [
    "ks_df.head()"
   ]
  },
  {
   "cell_type": "code",
   "execution_count": 132,
   "metadata": {},
   "outputs": [
    {
     "data": {
      "text/html": [
       "<div>\n",
       "<style scoped>\n",
       "    .dataframe tbody tr th:only-of-type {\n",
       "        vertical-align: middle;\n",
       "    }\n",
       "\n",
       "    .dataframe tbody tr th {\n",
       "        vertical-align: top;\n",
       "    }\n",
       "\n",
       "    .dataframe thead th {\n",
       "        text-align: right;\n",
       "    }\n",
       "</style>\n",
       "<table border=\"1\" class=\"dataframe\">\n",
       "  <thead>\n",
       "    <tr style=\"text-align: right;\">\n",
       "      <th></th>\n",
       "      <th>ID</th>\n",
       "      <th>goal</th>\n",
       "      <th>pledged</th>\n",
       "      <th>backers</th>\n",
       "      <th>usd pledged</th>\n",
       "      <th>usd_pledged_real</th>\n",
       "      <th>usd_goal_real</th>\n",
       "    </tr>\n",
       "  </thead>\n",
       "  <tbody>\n",
       "    <tr>\n",
       "      <th>count</th>\n",
       "      <td>374,860.00</td>\n",
       "      <td>374,860.00</td>\n",
       "      <td>374,860.00</td>\n",
       "      <td>374,860.00</td>\n",
       "      <td>374,860.00</td>\n",
       "      <td>374,860.00</td>\n",
       "      <td>374,860.00</td>\n",
       "    </tr>\n",
       "    <tr>\n",
       "      <th>mean</th>\n",
       "      <td>1,074,652,355.55</td>\n",
       "      <td>49,522.99</td>\n",
       "      <td>9,750.54</td>\n",
       "      <td>106.69</td>\n",
       "      <td>7,036.80</td>\n",
       "      <td>9,120.90</td>\n",
       "      <td>45,863.03</td>\n",
       "    </tr>\n",
       "    <tr>\n",
       "      <th>std</th>\n",
       "      <td>619,136,772.59</td>\n",
       "      <td>1,189,361.60</td>\n",
       "      <td>96,010.94</td>\n",
       "      <td>911.71</td>\n",
       "      <td>78,640.16</td>\n",
       "      <td>91,319.69</td>\n",
       "      <td>1,158,767.37</td>\n",
       "    </tr>\n",
       "    <tr>\n",
       "      <th>min</th>\n",
       "      <td>5,971.00</td>\n",
       "      <td>0.01</td>\n",
       "      <td>0.00</td>\n",
       "      <td>0.00</td>\n",
       "      <td>0.00</td>\n",
       "      <td>0.00</td>\n",
       "      <td>0.01</td>\n",
       "    </tr>\n",
       "    <tr>\n",
       "      <th>25%</th>\n",
       "      <td>538,063,323.00</td>\n",
       "      <td>2,000.00</td>\n",
       "      <td>31.00</td>\n",
       "      <td>2.00</td>\n",
       "      <td>16.98</td>\n",
       "      <td>31.00</td>\n",
       "      <td>2,000.00</td>\n",
       "    </tr>\n",
       "    <tr>\n",
       "      <th>50%</th>\n",
       "      <td>1,075,289,160.00</td>\n",
       "      <td>5,500.00</td>\n",
       "      <td>620.00</td>\n",
       "      <td>12.00</td>\n",
       "      <td>394.76</td>\n",
       "      <td>624.50</td>\n",
       "      <td>5,500.00</td>\n",
       "    </tr>\n",
       "    <tr>\n",
       "      <th>75%</th>\n",
       "      <td>1,610,137,350.75</td>\n",
       "      <td>16,500.00</td>\n",
       "      <td>4,080.00</td>\n",
       "      <td>57.00</td>\n",
       "      <td>3,034.43</td>\n",
       "      <td>4,050.89</td>\n",
       "      <td>16,000.00</td>\n",
       "    </tr>\n",
       "    <tr>\n",
       "      <th>max</th>\n",
       "      <td>2,147,476,221.00</td>\n",
       "      <td>100,000,000.00</td>\n",
       "      <td>20,338,986.27</td>\n",
       "      <td>219,382.00</td>\n",
       "      <td>20,338,986.27</td>\n",
       "      <td>20,338,986.27</td>\n",
       "      <td>166,361,390.71</td>\n",
       "    </tr>\n",
       "  </tbody>\n",
       "</table>\n",
       "</div>"
      ],
      "text/plain": [
       "                    ID           goal       pledged    backers   usd pledged  \\\n",
       "count       374,860.00     374,860.00    374,860.00 374,860.00    374,860.00   \n",
       "mean  1,074,652,355.55      49,522.99      9,750.54     106.69      7,036.80   \n",
       "std     619,136,772.59   1,189,361.60     96,010.94     911.71     78,640.16   \n",
       "min           5,971.00           0.01          0.00       0.00          0.00   \n",
       "25%     538,063,323.00       2,000.00         31.00       2.00         16.98   \n",
       "50%   1,075,289,160.00       5,500.00        620.00      12.00        394.76   \n",
       "75%   1,610,137,350.75      16,500.00      4,080.00      57.00      3,034.43   \n",
       "max   2,147,476,221.00 100,000,000.00 20,338,986.27 219,382.00 20,338,986.27   \n",
       "\n",
       "       usd_pledged_real  usd_goal_real  \n",
       "count        374,860.00     374,860.00  \n",
       "mean           9,120.90      45,863.03  \n",
       "std           91,319.69   1,158,767.37  \n",
       "min                0.00           0.01  \n",
       "25%               31.00       2,000.00  \n",
       "50%              624.50       5,500.00  \n",
       "75%            4,050.89      16,000.00  \n",
       "max       20,338,986.27 166,361,390.71  "
      ]
     },
     "execution_count": 132,
     "metadata": {},
     "output_type": "execute_result"
    }
   ],
   "source": [
    "ks_df.describe()"
   ]
  },
  {
   "cell_type": "code",
   "execution_count": 125,
   "metadata": {},
   "outputs": [
    {
     "data": {
      "text/plain": [
       "45863.02597164258"
      ]
     },
     "execution_count": 125,
     "metadata": {},
     "output_type": "execute_result"
    }
   ],
   "source": [
    "avg_goal_per_project = ks_df.groupby(\"ID\").sum()['usd_goal_real'].mean()\n",
    "avg_goal_per_project"
   ]
  },
  {
   "cell_type": "code",
   "execution_count": 126,
   "metadata": {},
   "outputs": [
    {
     "data": {
      "text/plain": [
       "9120.898548951944"
      ]
     },
     "execution_count": 126,
     "metadata": {},
     "output_type": "execute_result"
    }
   ],
   "source": [
    "avg_pledged_per_project = ks_df.groupby(\"ID\").sum()['usd_pledged_real'].mean()\n",
    "avg_pledged_per_project"
   ]
  },
  {
   "cell_type": "code",
   "execution_count": 127,
   "metadata": {},
   "outputs": [
    {
     "data": {
      "text/plain": [
       "19.88725853935468"
      ]
     },
     "execution_count": 127,
     "metadata": {},
     "output_type": "execute_result"
    }
   ],
   "source": [
    "avg_pledged_per_project / avg_goal_per_project * 100"
   ]
  },
  {
   "cell_type": "code",
   "execution_count": 201,
   "metadata": {},
   "outputs": [
    {
     "data": {
      "image/png": "[encoded data removed]",
      "text/plain": [
       "<Figure size 432x288 with 1 Axes>"
      ]
     },
     "metadata": {},
     "output_type": "display_data"
    },
    {
     "data": {
      "text/plain": [
       "state\n",
       "canceled       38757\n",
       "failed        197611\n",
       "live            2798\n",
       "successful    133851\n",
       "suspended       1843\n",
       "Name: ID, dtype: int64"
      ]
     },
     "execution_count": 201,
     "metadata": {},
     "output_type": "execute_result"
    }
   ],
   "source": [
    "sizes = ks_df.ID.groupby(ks_df.state).count() \n",
    "\n",
    "labels = sizes.index\n",
    "\n",
    "#colors = [\"#E13F28\", \"#D69A80\", \"#D63B59\", \"#AE5552\", \"#CB5C3B\",]\n",
    "\n",
    "#explode = (0.1,0.1,0.1,0.1,0.8)\n",
    "\n",
    "# Create a pie chart\n",
    "plt.pie(\n",
    "    # using data total)arrests\n",
    "    sizes,\n",
    "    # with the labels being officer names\n",
    "    labels = sizes.index,\n",
    "    # with no shadows\n",
    "    shadow = True,\n",
    "    # with colors\n",
    "    #colors = colors,\n",
    "    # with one slide exploded out\n",
    "    #explode = explode,\n",
    "    # with the start angle at 90%\n",
    "    startangle = 140,\n",
    "    # with the percent listed as a fraction\n",
    "    autopct = '%1.1f%%',\n",
    "    )\n",
    "\n",
    "\n",
    "centre_circle = plt.Circle((0,0),0.75,color='white', fc='white',linewidth=1.25)\n",
    "fig = plt.gcf()\n",
    "fig.gca().add_artist(centre_circle)\n",
    "\n",
    "\n",
    "# View the plot drop above\n",
    "plt.axis('equal')\n",
    "\n",
    "# View the plot\n",
    "plt.tight_layout()\n",
    "plt.show()\n",
    "sizes"
   ]
  },
  {
   "cell_type": "code",
   "execution_count": 202,
   "metadata": {},
   "outputs": [
    {
     "data": {
      "text/plain": [
       "main_category\n",
       "Art             28152\n",
       "Comics          10819\n",
       "Crafts           8809\n",
       "Dance            3767\n",
       "Design          30066\n",
       "Fashion         22812\n",
       "Film & Video    62696\n",
       "Food            24599\n",
       "Games           35225\n",
       "Journalism       4754\n",
       "Music           49530\n",
       "Photography     10778\n",
       "Publishing      39379\n",
       "Technology      32562\n",
       "Theater         10912\n",
       "Name: ID, dtype: int64"
      ]
     },
     "execution_count": 202,
     "metadata": {},
     "output_type": "execute_result"
    }
   ],
   "source": [
    "ks_df.ID.groupby(ks_df.main_category).count() "
   ]
  },
  {
   "cell_type": "code",
   "execution_count": null,
   "metadata": {},
   "outputs": [],
   "source": [
    "# Dataframe of previous code is used here \n",
    "  \n",
    "# Plot the bar chart for numeric values \n",
    "# a comparison will be shown between \n",
    "# all 3 age, income, sales \n",
    "df.plot.bar() \n",
    "  \n",
    "# plot between 2 attributes \n",
    "plt.bar(df['Age'], df['Sales']) \n",
    "plt.xlabel(\"Age\") \n",
    "plt.ylabel(\"Sales\") \n",
    "plt.show()"
   ]
  },
  {
   "cell_type": "code",
   "execution_count": null,
   "metadata": {},
   "outputs": [],
   "source": [
    "x= df[['REGION','SAT_AVG','ADM_RATE','COSTT4_A' ]]\n",
    "y= x.set_index('REGION')\n",
    "z=y.groupby('REGION').mean()\n",
    "\n",
    "z.plot.bar(stacked=True)"
   ]
  },
  {
   "cell_type": "markdown",
   "metadata": {},
   "source": [
    "# Spare code used in early data exploration"
   ]
  },
  {
   "cell_type": "code",
   "execution_count": 60,
   "metadata": {},
   "outputs": [
    {
     "data": {
      "text/plain": [
       "array(['GB', 'US', 'CA', 'AU', 'NO', 'IT', 'DE', 'IE', 'MX', 'ES', 'N,0\"',\n",
       "       'SE', 'FR', 'NL', 'NZ', 'CH', 'AT', 'DK', 'BE', 'HK', 'LU', 'SG',\n",
       "       'JP'], dtype=object)"
      ]
     },
     "execution_count": 60,
     "metadata": {},
     "output_type": "execute_result"
    }
   ],
   "source": [
    "ks_df.country.unique()"
   ]
  },
  {
   "cell_type": "code",
   "execution_count": 63,
   "metadata": {},
   "outputs": [
    {
     "data": {
      "text/plain": [
       "(array([   169,    328,    632, ..., 378434, 378585, 378588]),\n",
       " array([12, 12, 12, ..., 12, 12, 12]))"
      ]
     },
     "execution_count": 63,
     "metadata": {},
     "output_type": "execute_result"
    }
   ],
   "source": [
    " np.where(pd.isnull(ks_df))"
   ]
  },
  {
   "cell_type": "code",
   "execution_count": 68,
   "metadata": {},
   "outputs": [
    {
     "data": {
      "text/html": [
       "<div>\n",
       "<style scoped>\n",
       "    .dataframe tbody tr th:only-of-type {\n",
       "        vertical-align: middle;\n",
       "    }\n",
       "\n",
       "    .dataframe tbody tr th {\n",
       "        vertical-align: top;\n",
       "    }\n",
       "\n",
       "    .dataframe thead th {\n",
       "        text-align: right;\n",
       "    }\n",
       "</style>\n",
       "<table border=\"1\" class=\"dataframe\">\n",
       "  <thead>\n",
       "    <tr style=\"text-align: right;\">\n",
       "      <th></th>\n",
       "      <th>ID</th>\n",
       "      <th>name</th>\n",
       "      <th>category</th>\n",
       "      <th>main_category</th>\n",
       "      <th>currency</th>\n",
       "      <th>deadline</th>\n",
       "      <th>goal</th>\n",
       "      <th>launched</th>\n",
       "      <th>pledged</th>\n",
       "      <th>state</th>\n",
       "      <th>backers</th>\n",
       "      <th>country</th>\n",
       "      <th>usd pledged</th>\n",
       "      <th>usd_pledged_real</th>\n",
       "      <th>usd_goal_real</th>\n",
       "    </tr>\n",
       "  </thead>\n",
       "  <tbody>\n",
       "    <tr>\n",
       "      <th>378588</th>\n",
       "      <td>999621278</td>\n",
       "      <td>Jeune auteur a besoin de vous!</td>\n",
       "      <td>Publishing</td>\n",
       "      <td>Publishing</td>\n",
       "      <td>EUR</td>\n",
       "      <td>2015-11-20</td>\n",
       "      <td>1,600.00</td>\n",
       "      <td>2015-10-21 21:28:13</td>\n",
       "      <td>0.00</td>\n",
       "      <td>undefined</td>\n",
       "      <td>0</td>\n",
       "      <td>N,0\"</td>\n",
       "      <td>nan</td>\n",
       "      <td>0.00</td>\n",
       "      <td>1,710.08</td>\n",
       "    </tr>\n",
       "  </tbody>\n",
       "</table>\n",
       "</div>"
      ],
      "text/plain": [
       "               ID                            name    category main_category  \\\n",
       "378588  999621278  Jeune auteur a besoin de vous!  Publishing    Publishing   \n",
       "\n",
       "       currency    deadline     goal             launched  pledged      state  \\\n",
       "378588      EUR  2015-11-20 1,600.00  2015-10-21 21:28:13     0.00  undefined   \n",
       "\n",
       "        backers country  usd pledged  usd_pledged_real  usd_goal_real  \n",
       "378588        0    N,0\"          nan              0.00       1,710.08  "
      ]
     },
     "execution_count": 68,
     "metadata": {},
     "output_type": "execute_result"
    }
   ],
   "source": [
    "ks_df.iloc[[378588]]"
   ]
  },
  {
   "cell_type": "code",
   "execution_count": 86,
   "metadata": {},
   "outputs": [
    {
     "data": {
      "text/plain": [
       "(3562, 15)"
      ]
     },
     "execution_count": 86,
     "metadata": {},
     "output_type": "execute_result"
    }
   ],
   "source": [
    "ks_df.loc[ks_df['state'] == 'undefined'].shape"
   ]
  },
  {
   "cell_type": "code",
   "execution_count": 77,
   "metadata": {},
   "outputs": [],
   "source": [
    "temp = ks_df[ks_df['usd pledged'].isnull()]"
   ]
  },
  {
   "cell_type": "code",
   "execution_count": 78,
   "metadata": {},
   "outputs": [
    {
     "data": {
      "text/plain": [
       "array(['undefined', 'successful', 'canceled', 'failed', 'suspended',\n",
       "       'live'], dtype=object)"
      ]
     },
     "execution_count": 78,
     "metadata": {},
     "output_type": "execute_result"
    }
   ],
   "source": [
    "#temp.state.unique()"
   ]
  },
  {
   "cell_type": "code",
   "execution_count": 128,
   "metadata": {},
   "outputs": [],
   "source": [
    "#temp.loc[temp['state'] != 'undefined']"
   ]
  },
  {
   "cell_type": "code",
   "execution_count": 82,
   "metadata": {},
   "outputs": [
    {
     "data": {
      "text/plain": [
       "array(['N,0\"'], dtype=object)"
      ]
     },
     "execution_count": 82,
     "metadata": {},
     "output_type": "execute_result"
    }
   ],
   "source": [
    "temp.country.unique()"
   ]
  },
  {
   "cell_type": "code",
   "execution_count": 83,
   "metadata": {},
   "outputs": [
    {
     "data": {
      "text/plain": [
       "array([0])"
      ]
     },
     "execution_count": 83,
     "metadata": {},
     "output_type": "execute_result"
    }
   ],
   "source": [
    "temp.backers.unique()"
   ]
  },
  {
   "cell_type": "code",
   "execution_count": 89,
   "metadata": {},
   "outputs": [
    {
     "data": {
      "text/plain": [
       "(3797, 15)"
      ]
     },
     "execution_count": 89,
     "metadata": {},
     "output_type": "execute_result"
    }
   ],
   "source": [
    "temp.shape"
   ]
  },
  {
   "cell_type": "code",
   "execution_count": 97,
   "metadata": {},
   "outputs": [],
   "source": [
    "temp_2 = ks_df.loc[ks_df['backers'] == 0]"
   ]
  },
  {
   "cell_type": "code",
   "execution_count": 95,
   "metadata": {},
   "outputs": [
    {
     "data": {
      "text/plain": [
       "(3797, 15)"
      ]
     },
     "execution_count": 95,
     "metadata": {},
     "output_type": "execute_result"
    }
   ],
   "source": [
    "ks_df.loc[ks_df['country'] == 'N,0\"'].shape"
   ]
  },
  {
   "cell_type": "code",
   "execution_count": 99,
   "metadata": {},
   "outputs": [],
   "source": [
    "ks_df_2 = ks_df.dropna()"
   ]
  },
  {
   "cell_type": "code",
   "execution_count": 129,
   "metadata": {},
   "outputs": [],
   "source": [
    "#ks_df_2.head()"
   ]
  },
  {
   "cell_type": "code",
   "execution_count": 130,
   "metadata": {},
   "outputs": [],
   "source": [
    "#ks_df_2.country.unique()"
   ]
  },
  {
   "cell_type": "code",
   "execution_count": null,
   "metadata": {},
   "outputs": [],
   "source": []
  }
 ],
 "metadata": {
  "kernelspec": {
   "display_name": "Python 3",
   "language": "python",
   "name": "python3"
  },
  "language_info": {
   "codemirror_mode": {
    "name": "ipython",
    "version": 3
   },
   "file_extension": ".py",
   "mimetype": "text/x-python",
   "name": "python",
   "nbconvert_exporter": "python",
   "pygments_lexer": "ipython3",
   "version": "3.7.3"
  }
 },
 "nbformat": 4,
 "nbformat_minor": 2
}
